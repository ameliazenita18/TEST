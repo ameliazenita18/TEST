{
 "cells": [
  {
   "cell_type": "code",
   "execution_count": 1,
   "id": "fa7bc4fc-a41c-4d82-a833-cbc5b49cddae",
   "metadata": {},
   "outputs": [],
   "source": [
    "import pandas as pd\n",
    "import numpy as np\n",
    "import matplotlib.pyplot as plt\n",
    "import datetime as dt\n",
    "from sklearn.preprocessing import StandardScaler\n",
    "\n",
    "from sqlalchemy import create_engine\n",
    "import psycopg2"
   ]
  },
  {
   "cell_type": "markdown",
   "id": "f1db9bbb-76f4-49b8-8891-58ebb8f16603",
   "metadata": {},
   "source": [
    "#### LOAD DATA TABLE PRODUCT"
   ]
  },
  {
   "cell_type": "code",
   "execution_count": 2,
   "id": "b69d40ee-8283-4464-9949-b4a10dcfadd1",
   "metadata": {},
   "outputs": [],
   "source": [
    "data_1 = pd.read_csv('products.csv')"
   ]
  },
  {
   "cell_type": "markdown",
   "id": "775154de-f064-45ad-9668-8c78555a5cd3",
   "metadata": {},
   "source": [
    "#### LOAD DATA TABLE TRANSACTIONS"
   ]
  },
  {
   "cell_type": "code",
   "execution_count": 3,
   "id": "28d3ff69-73d8-4bd0-8b25-390cd08023bb",
   "metadata": {},
   "outputs": [],
   "source": [
    "data_2 = pd.read_csv('transactions.csv')"
   ]
  },
  {
   "cell_type": "markdown",
   "id": "993cf02c-1858-44a8-ac9d-58d69498e9e1",
   "metadata": {},
   "source": [
    "#### CLEANING DATA"
   ]
  },
  {
   "cell_type": "markdown",
   "id": "66dd0b2c-6da5-4c25-bb37-0c987aa8c4da",
   "metadata": {},
   "source": [
    "##### DATA 1"
   ]
  },
  {
   "cell_type": "code",
   "execution_count": 4,
   "id": "0abd35ed-6603-4984-8697-1e3024e3e83d",
   "metadata": {},
   "outputs": [],
   "source": [
    "data_1 = data_1.dropna(subset=['product_id','product_name'])"
   ]
  },
  {
   "cell_type": "code",
   "execution_count": 5,
   "id": "b961c899-468c-4c85-bbba-5097a76d7e7f",
   "metadata": {},
   "outputs": [],
   "source": [
    "data_1= data_1[(data_1['product_id'].str.contains('PROD'))].reset_index(drop=True)"
   ]
  },
  {
   "cell_type": "code",
   "execution_count": 6,
   "id": "0ffbbd37-3cae-4f97-9816-8540b8bcb7e9",
   "metadata": {},
   "outputs": [],
   "source": [
    "data_1.loc[data_1['base_price'].str.contains(r'[a-zA-Z]', na=False),'base_price']=0"
   ]
  },
  {
   "cell_type": "code",
   "execution_count": 7,
   "id": "ee787aeb-d9a0-4c70-851d-8a2a53090e32",
   "metadata": {},
   "outputs": [],
   "source": [
    "data_1['base_price']=data_1['base_price'].astype(float)"
   ]
  },
  {
   "cell_type": "code",
   "execution_count": 8,
   "id": "34ea9988-8b24-48b7-a7cb-9ad8d2b54080",
   "metadata": {},
   "outputs": [],
   "source": [
    "str_columns = ['product_name', 'category', 'manufacturer']"
   ]
  },
  {
   "cell_type": "code",
   "execution_count": 9,
   "id": "30fc9764-3f63-45be-a433-b16a823646b6",
   "metadata": {},
   "outputs": [],
   "source": [
    "for i in str_columns :\n",
    "    data_1[i] = data_1[i].fillna('-')\n",
    "    data_1[i] = data_1[i].str.lower()\n",
    "    data_1[i] = data_1[i].astype(str)"
   ]
  },
  {
   "cell_type": "code",
   "execution_count": 10,
   "id": "85c81327-1100-4e09-bee4-795583a03aed",
   "metadata": {},
   "outputs": [
    {
     "name": "stdout",
     "output_type": "stream",
     "text": [
      "<class 'pandas.core.frame.DataFrame'>\n",
      "RangeIndex: 188 entries, 0 to 187\n",
      "Data columns (total 5 columns):\n",
      " #   Column        Non-Null Count  Dtype  \n",
      "---  ------        --------------  -----  \n",
      " 0   product_id    188 non-null    object \n",
      " 1   product_name  188 non-null    object \n",
      " 2   category      188 non-null    object \n",
      " 3   manufacturer  188 non-null    object \n",
      " 4   base_price    187 non-null    float64\n",
      "dtypes: float64(1), object(4)\n",
      "memory usage: 7.5+ KB\n"
     ]
    }
   ],
   "source": [
    "data_1.info()"
   ]
  },
  {
   "cell_type": "code",
   "execution_count": 11,
   "id": "80092263-a803-4cdf-b325-eb4cefd31188",
   "metadata": {},
   "outputs": [
    {
     "data": {
      "text/html": [
       "<div>\n",
       "<style scoped>\n",
       "    .dataframe tbody tr th:only-of-type {\n",
       "        vertical-align: middle;\n",
       "    }\n",
       "\n",
       "    .dataframe tbody tr th {\n",
       "        vertical-align: top;\n",
       "    }\n",
       "\n",
       "    .dataframe thead th {\n",
       "        text-align: right;\n",
       "    }\n",
       "</style>\n",
       "<table border=\"1\" class=\"dataframe\">\n",
       "  <thead>\n",
       "    <tr style=\"text-align: right;\">\n",
       "      <th></th>\n",
       "      <th>product_id</th>\n",
       "      <th>product_name</th>\n",
       "      <th>category</th>\n",
       "      <th>manufacturer</th>\n",
       "      <th>base_price</th>\n",
       "    </tr>\n",
       "  </thead>\n",
       "  <tbody>\n",
       "    <tr>\n",
       "      <th>0</th>\n",
       "      <td>PROD-a7e8c7dd</td>\n",
       "      <td>books item 72</td>\n",
       "      <td>books</td>\n",
       "      <td>ecotech</td>\n",
       "      <td>475.85</td>\n",
       "    </tr>\n",
       "    <tr>\n",
       "      <th>1</th>\n",
       "      <td>PROD-a9a7608e</td>\n",
       "      <td>sports &amp; outdoors item 467</td>\n",
       "      <td>sports &amp; outdoors</td>\n",
       "      <td>globalbrands</td>\n",
       "      <td>0.00</td>\n",
       "    </tr>\n",
       "    <tr>\n",
       "      <th>2</th>\n",
       "      <td>PROD-38e2b395</td>\n",
       "      <td>home &amp; kitchen item 100</td>\n",
       "      <td>home &amp; kitchen</td>\n",
       "      <td>-683</td>\n",
       "      <td>235.03</td>\n",
       "    </tr>\n",
       "    <tr>\n",
       "      <th>3</th>\n",
       "      <td>PROD-048762fb</td>\n",
       "      <td>home &amp; kitchen item 344</td>\n",
       "      <td>home &amp; kitchen</td>\n",
       "      <td>globalbrands_noise_onto</td>\n",
       "      <td>20.09</td>\n",
       "    </tr>\n",
       "    <tr>\n",
       "      <th>4</th>\n",
       "      <td>PROD-1f031ffb</td>\n",
       "      <td>-605</td>\n",
       "      <td>books</td>\n",
       "      <td>fashionhouse</td>\n",
       "      <td>99.87</td>\n",
       "    </tr>\n",
       "    <tr>\n",
       "      <th>...</th>\n",
       "      <td>...</td>\n",
       "      <td>...</td>\n",
       "      <td>...</td>\n",
       "      <td>...</td>\n",
       "      <td>...</td>\n",
       "    </tr>\n",
       "    <tr>\n",
       "      <th>183</th>\n",
       "      <td>PROD-9caba23d</td>\n",
       "      <td>electronics item 404</td>\n",
       "      <td>electronics</td>\n",
       "      <td>ecotech</td>\n",
       "      <td>181.11</td>\n",
       "    </tr>\n",
       "    <tr>\n",
       "      <th>184</th>\n",
       "      <td>PROD-c23e242f_project</td>\n",
       "      <td>clothing item 298</td>\n",
       "      <td>clot</td>\n",
       "      <td>sportspro</td>\n",
       "      <td>463.10</td>\n",
       "    </tr>\n",
       "    <tr>\n",
       "      <th>185</th>\n",
       "      <td>PROD-48bda8f6</td>\n",
       "      <td>286</td>\n",
       "      <td>books</td>\n",
       "      <td>techgiant</td>\n",
       "      <td>199.19</td>\n",
       "    </tr>\n",
       "    <tr>\n",
       "      <th>186</th>\n",
       "      <td>PROD-c2fc02b2</td>\n",
       "      <td>-969</td>\n",
       "      <td>home &amp; kitchen</td>\n",
       "      <td>globalbrands</td>\n",
       "      <td>487.10</td>\n",
       "    </tr>\n",
       "    <tr>\n",
       "      <th>187</th>\n",
       "      <td>PROD-9caba23d</td>\n",
       "      <td>electronics item 404</td>\n",
       "      <td>electronics</td>\n",
       "      <td>ecotech</td>\n",
       "      <td>181.11</td>\n",
       "    </tr>\n",
       "  </tbody>\n",
       "</table>\n",
       "<p>188 rows × 5 columns</p>\n",
       "</div>"
      ],
      "text/plain": [
       "                product_id                product_name           category  \\\n",
       "0            PROD-a7e8c7dd               books item 72              books   \n",
       "1            PROD-a9a7608e  sports & outdoors item 467  sports & outdoors   \n",
       "2            PROD-38e2b395     home & kitchen item 100     home & kitchen   \n",
       "3            PROD-048762fb     home & kitchen item 344     home & kitchen   \n",
       "4            PROD-1f031ffb                        -605              books   \n",
       "..                     ...                         ...                ...   \n",
       "183          PROD-9caba23d        electronics item 404        electronics   \n",
       "184  PROD-c23e242f_project           clothing item 298           clot       \n",
       "185          PROD-48bda8f6                         286              books   \n",
       "186          PROD-c2fc02b2                        -969     home & kitchen   \n",
       "187          PROD-9caba23d        electronics item 404        electronics   \n",
       "\n",
       "                manufacturer  base_price  \n",
       "0                    ecotech      475.85  \n",
       "1               globalbrands        0.00  \n",
       "2                       -683      235.03  \n",
       "3    globalbrands_noise_onto       20.09  \n",
       "4               fashionhouse       99.87  \n",
       "..                       ...         ...  \n",
       "183                  ecotech      181.11  \n",
       "184                sportspro      463.10  \n",
       "185                techgiant      199.19  \n",
       "186             globalbrands      487.10  \n",
       "187                  ecotech      181.11  \n",
       "\n",
       "[188 rows x 5 columns]"
      ]
     },
     "execution_count": 11,
     "metadata": {},
     "output_type": "execute_result"
    }
   ],
   "source": [
    "data_1"
   ]
  },
  {
   "cell_type": "markdown",
   "id": "7837829e-932b-49f7-995b-513a2af8c5f4",
   "metadata": {},
   "source": [
    "##### DATA 2"
   ]
  },
  {
   "cell_type": "raw",
   "id": "2833bf16-081d-44b9-a93d-67be2e74a645",
   "metadata": {},
   "source": [
    "Total revenue per product\n",
    "Sales performance by channel\n",
    "Customer purchase frequency\n",
    "Inventory valuation"
   ]
  },
  {
   "cell_type": "code",
   "execution_count": 12,
   "id": "f64fa46a-f72e-473c-9a48-8bc121a3256f",
   "metadata": {},
   "outputs": [],
   "source": [
    "data_2 = data_2.dropna(subset=['transaction_id','customer_id','product_id'])"
   ]
  },
  {
   "cell_type": "code",
   "execution_count": 13,
   "id": "897d5787-4b97-4457-83f9-ec0074a83050",
   "metadata": {},
   "outputs": [],
   "source": [
    "data_2.loc[~(data_2['product_id'].str.contains('PROD')),'product_id']='other'"
   ]
  },
  {
   "cell_type": "code",
   "execution_count": 14,
   "id": "44769b91-f44f-4d25-a2bf-8c224c797a05",
   "metadata": {},
   "outputs": [],
   "source": [
    "data_2.loc[~(data_2['transaction_id'].str.contains('TRX')),'transaction_id']='TRX'+'_'+data_2['transaction_id']"
   ]
  },
  {
   "cell_type": "code",
   "execution_count": 15,
   "id": "7f41233e-6c04-4e97-a1e9-1fa75e9e2cd7",
   "metadata": {},
   "outputs": [],
   "source": [
    "columns = ['quantity', 'total_price']\n",
    "for i in columns :\n",
    "    data_2[i]=data_2[i].astype('str')\n",
    "    data_2[i]=data_2[i].fillna('0')\n",
    "    data_2[i]=data_2[i].str.strip(' ')\n",
    "    data_2[i]=data_2[i].str.split('_').str[0]\n",
    "    data_2[i]=data_2[i].str.replace('nan','0')\n",
    "    data_2[i]=data_2[i].str.replace('MISSING','0')\n",
    "    data_2.loc[data_2[i]=='n',i]='0'"
   ]
  },
  {
   "cell_type": "code",
   "execution_count": 16,
   "id": "604dbca3-6957-4b92-b06a-151155a54786",
   "metadata": {},
   "outputs": [],
   "source": [
    "data_2['sales_channel']=data_2['sales_channel'].str.strip(' ')\n",
    "data_2['sales_channel']=data_2['sales_channel'].str.lower()\n",
    "data_2['sales_channel']=data_2['sales_channel'].fillna('other')\n",
    "data_2['sales_channel']=data_2['sales_channel'].str.split('_').str[0]\n",
    "data_2['sales_channel']=data_2['sales_channel'].str.replace('nan','other')\n",
    "data_2['sales_channel']=data_2['sales_channel'].str.replace('missing','other')\n",
    "data_2.loc[data_2['sales_channel']=='n','sales_channel']='other'"
   ]
  },
  {
   "cell_type": "code",
   "execution_count": 17,
   "id": "fc25ccab-a62c-4ee0-8ce8-357405fb56b4",
   "metadata": {},
   "outputs": [],
   "source": [
    "data_2.loc[~(data_2['sales_channel'].str.contains('mobile|in-store|online')),'sales_channel']='other'"
   ]
  },
  {
   "cell_type": "code",
   "execution_count": 20,
   "id": "f6d7d4d6-7df2-4e42-a2a2-4d63a1f34f24",
   "metadata": {},
   "outputs": [],
   "source": [
    "data_2['quantity']=data_2['quantity'].astype(float)\n",
    "data_2['total_price']=data_2['total_price'].astype(float)"
   ]
  },
  {
   "cell_type": "code",
   "execution_count": 21,
   "id": "e11a8420-ab19-47f7-b0af-88416d96f0fa",
   "metadata": {},
   "outputs": [],
   "source": [
    "data_2['sales_channel']=data_2['sales_channel'].fillna('-')\n",
    "data_2['sales_channel']=data_2['sales_channel'].str.lower()"
   ]
  },
  {
   "cell_type": "code",
   "execution_count": 22,
   "id": "91d56c73-9106-43a8-b87c-fc8ac5dcc878",
   "metadata": {},
   "outputs": [],
   "source": [
    "data_2.loc[data_2['sale_date'].str.contains(r'[a-zA-Z]', na=False),'sale_date']='1997-01-01'"
   ]
  },
  {
   "cell_type": "code",
   "execution_count": 23,
   "id": "fc77c331-8eeb-44b9-8226-1ffd78c698d1",
   "metadata": {},
   "outputs": [],
   "source": [
    "data_2['sale_date']=pd.to_datetime(data_2['sale_date'], errors='coerce')"
   ]
  },
  {
   "cell_type": "code",
   "execution_count": 24,
   "id": "46c17fcd-eeea-4577-bdb8-f010588dbd55",
   "metadata": {},
   "outputs": [],
   "source": [
    "data_2['sale_date']=data_2['sale_date'].fillna('1997-01-01')"
   ]
  },
  {
   "cell_type": "code",
   "execution_count": 25,
   "id": "3315f910-7de9-4f4a-a48b-ef156c71f8a9",
   "metadata": {},
   "outputs": [],
   "source": [
    "data_2['sale_date']=pd.to_datetime(data_2['sale_date'])"
   ]
  },
  {
   "cell_type": "code",
   "execution_count": 26,
   "id": "b46748d6-6cb3-4d16-bd25-afe6eb220364",
   "metadata": {},
   "outputs": [],
   "source": [
    "# Remove transactions where quantity or total_price is less than 0\n",
    "data_2 = data_2[(data_2['quantity'] >= 0) & (data_2['total_price'] >= 0)]"
   ]
  },
  {
   "cell_type": "code",
   "execution_count": 44,
   "id": "849f1154-df47-44e4-ade0-a42bc144856f",
   "metadata": {},
   "outputs": [],
   "source": [
    "data_2.loc[~data_2['customer_id'].str.contains('CUST'),'customer_id']='other'"
   ]
  },
  {
   "cell_type": "markdown",
   "id": "99b81341-15a4-44ee-adc0-130d429ba489",
   "metadata": {},
   "source": [
    "### Total revenue per product"
   ]
  },
  {
   "cell_type": "code",
   "execution_count": 27,
   "id": "716579af-904f-415d-9c11-f2ecdcdfaef6",
   "metadata": {},
   "outputs": [],
   "source": [
    "#GROUP BY PRODUCT\n",
    "data_grouped = data_2.groupby('product_id').agg({'total_price': 'sum', # Sum sales for each product\n",
    "                                                                'quantity': 'sum'     # Sum qty sold or each product\n",
    "                                                                }).reset_index()"
   ]
  },
  {
   "cell_type": "code",
   "execution_count": 28,
   "id": "d56a626f-b742-44ce-ab86-f1a260d141f3",
   "metadata": {},
   "outputs": [
    {
     "data": {
      "text/html": [
       "<div>\n",
       "<style scoped>\n",
       "    .dataframe tbody tr th:only-of-type {\n",
       "        vertical-align: middle;\n",
       "    }\n",
       "\n",
       "    .dataframe tbody tr th {\n",
       "        vertical-align: top;\n",
       "    }\n",
       "\n",
       "    .dataframe thead th {\n",
       "        text-align: right;\n",
       "    }\n",
       "</style>\n",
       "<table border=\"1\" class=\"dataframe\">\n",
       "  <thead>\n",
       "    <tr style=\"text-align: right;\">\n",
       "      <th></th>\n",
       "      <th>product_id</th>\n",
       "      <th>total_price</th>\n",
       "      <th>quantity</th>\n",
       "    </tr>\n",
       "  </thead>\n",
       "  <tbody>\n",
       "    <tr>\n",
       "      <th>0</th>\n",
       "      <td>PROD-0</td>\n",
       "      <td>3478.14</td>\n",
       "      <td>30.0</td>\n",
       "    </tr>\n",
       "    <tr>\n",
       "      <th>1</th>\n",
       "      <td>PROD-004aea84</td>\n",
       "      <td>25464.62</td>\n",
       "      <td>176.0</td>\n",
       "    </tr>\n",
       "    <tr>\n",
       "      <th>2</th>\n",
       "      <td>PROD-01aaa947</td>\n",
       "      <td>48788.88</td>\n",
       "      <td>113.0</td>\n",
       "    </tr>\n",
       "    <tr>\n",
       "      <th>3</th>\n",
       "      <td>PROD-02362c25</td>\n",
       "      <td>18087.08</td>\n",
       "      <td>99.0</td>\n",
       "    </tr>\n",
       "    <tr>\n",
       "      <th>4</th>\n",
       "      <td>PROD-048762fb</td>\n",
       "      <td>1988.91</td>\n",
       "      <td>99.0</td>\n",
       "    </tr>\n",
       "    <tr>\n",
       "      <th>...</th>\n",
       "      <td>...</td>\n",
       "      <td>...</td>\n",
       "      <td>...</td>\n",
       "    </tr>\n",
       "    <tr>\n",
       "      <th>212</th>\n",
       "      <td>PROD-fc92cad8</td>\n",
       "      <td>27263.74</td>\n",
       "      <td>165.0</td>\n",
       "    </tr>\n",
       "    <tr>\n",
       "      <th>213</th>\n",
       "      <td>PROD-fda1424b</td>\n",
       "      <td>27391.60</td>\n",
       "      <td>93.0</td>\n",
       "    </tr>\n",
       "    <tr>\n",
       "      <th>214</th>\n",
       "      <td>PROD-fe031249</td>\n",
       "      <td>14760.79</td>\n",
       "      <td>123.0</td>\n",
       "    </tr>\n",
       "    <tr>\n",
       "      <th>215</th>\n",
       "      <td>PROD-fe40d8d3</td>\n",
       "      <td>23175.21</td>\n",
       "      <td>131.0</td>\n",
       "    </tr>\n",
       "    <tr>\n",
       "      <th>216</th>\n",
       "      <td>other</td>\n",
       "      <td>433405.46</td>\n",
       "      <td>1855.0</td>\n",
       "    </tr>\n",
       "  </tbody>\n",
       "</table>\n",
       "<p>217 rows × 3 columns</p>\n",
       "</div>"
      ],
      "text/plain": [
       "        product_id  total_price  quantity\n",
       "0     PROD-0            3478.14      30.0\n",
       "1    PROD-004aea84     25464.62     176.0\n",
       "2    PROD-01aaa947     48788.88     113.0\n",
       "3    PROD-02362c25     18087.08      99.0\n",
       "4    PROD-048762fb      1988.91      99.0\n",
       "..             ...          ...       ...\n",
       "212  PROD-fc92cad8     27263.74     165.0\n",
       "213  PROD-fda1424b     27391.60      93.0\n",
       "214  PROD-fe031249     14760.79     123.0\n",
       "215  PROD-fe40d8d3     23175.21     131.0\n",
       "216          other    433405.46    1855.0\n",
       "\n",
       "[217 rows x 3 columns]"
      ]
     },
     "execution_count": 28,
     "metadata": {},
     "output_type": "execute_result"
    }
   ],
   "source": [
    "data_grouped"
   ]
  },
  {
   "cell_type": "code",
   "execution_count": 29,
   "id": "054c3383-202d-4543-8848-fa2c8e3bc76b",
   "metadata": {},
   "outputs": [],
   "source": [
    "# Merge with product data to get additional information like product_name and base_price\n",
    "data_grouped = data_grouped.merge(data_1, on='product_id',how='left')"
   ]
  },
  {
   "cell_type": "code",
   "execution_count": 30,
   "id": "164c4ab3-16f8-4939-84f0-bf95dcdc1642",
   "metadata": {},
   "outputs": [],
   "source": [
    "for i in str_columns:\n",
    "    data_grouped[i] = data_grouped[i].fillna('other')"
   ]
  },
  {
   "cell_type": "code",
   "execution_count": 31,
   "id": "89848358-7eb8-4b9d-9146-73963a71d34c",
   "metadata": {},
   "outputs": [],
   "source": [
    "data_grouped['base_price'] = data_grouped['base_price'].fillna(0)"
   ]
  },
  {
   "cell_type": "code",
   "execution_count": 32,
   "id": "ec967c00-694d-46dc-9392-0096daada45c",
   "metadata": {},
   "outputs": [],
   "source": [
    "data_grouped = data_grouped.sort_values(by=['total_price', 'quantity'], ascending=False).reset_index(drop=True)"
   ]
  },
  {
   "cell_type": "code",
   "execution_count": 33,
   "id": "3bcaab19-9ddf-46b8-9bf9-d2f4b69b1a26",
   "metadata": {},
   "outputs": [
    {
     "data": {
      "text/html": [
       "<div>\n",
       "<style scoped>\n",
       "    .dataframe tbody tr th:only-of-type {\n",
       "        vertical-align: middle;\n",
       "    }\n",
       "\n",
       "    .dataframe tbody tr th {\n",
       "        vertical-align: top;\n",
       "    }\n",
       "\n",
       "    .dataframe thead th {\n",
       "        text-align: right;\n",
       "    }\n",
       "</style>\n",
       "<table border=\"1\" class=\"dataframe\">\n",
       "  <thead>\n",
       "    <tr style=\"text-align: right;\">\n",
       "      <th></th>\n",
       "      <th>product_id</th>\n",
       "      <th>total_price</th>\n",
       "      <th>quantity</th>\n",
       "      <th>product_name</th>\n",
       "      <th>category</th>\n",
       "      <th>manufacturer</th>\n",
       "      <th>base_price</th>\n",
       "    </tr>\n",
       "  </thead>\n",
       "  <tbody>\n",
       "    <tr>\n",
       "      <th>0</th>\n",
       "      <td>other</td>\n",
       "      <td>433405.46</td>\n",
       "      <td>1855.0</td>\n",
       "      <td>other</td>\n",
       "      <td>other</td>\n",
       "      <td>other</td>\n",
       "      <td>0.00</td>\n",
       "    </tr>\n",
       "    <tr>\n",
       "      <th>1</th>\n",
       "      <td>PROD-206a28be</td>\n",
       "      <td>85260.90</td>\n",
       "      <td>175.0</td>\n",
       "      <td>clothing item 127</td>\n",
       "      <td>-</td>\n",
       "      <td>luxurygoods</td>\n",
       "      <td>481.70</td>\n",
       "    </tr>\n",
       "    <tr>\n",
       "      <th>2</th>\n",
       "      <td>PROD-ef9b7568</td>\n",
       "      <td>79237.60</td>\n",
       "      <td>161.0</td>\n",
       "      <td>electronics item 777</td>\n",
       "      <td>electronics</td>\n",
       "      <td>-763</td>\n",
       "      <td>483.16</td>\n",
       "    </tr>\n",
       "    <tr>\n",
       "      <th>3</th>\n",
       "      <td>PROD-91e8e92e</td>\n",
       "      <td>74931.68</td>\n",
       "      <td>198.0</td>\n",
       "      <td>electronics item 973</td>\n",
       "      <td>electronics</td>\n",
       "      <td>189</td>\n",
       "      <td>374.66</td>\n",
       "    </tr>\n",
       "    <tr>\n",
       "      <th>4</th>\n",
       "      <td>PROD-26037271</td>\n",
       "      <td>74483.64</td>\n",
       "      <td>154.0</td>\n",
       "      <td>beauty &amp; personal care item 700</td>\n",
       "      <td>beauty &amp; personal care</td>\n",
       "      <td>ecotech</td>\n",
       "      <td>0.00</td>\n",
       "    </tr>\n",
       "    <tr>\n",
       "      <th>...</th>\n",
       "      <td>...</td>\n",
       "      <td>...</td>\n",
       "      <td>...</td>\n",
       "      <td>...</td>\n",
       "      <td>...</td>\n",
       "      <td>...</td>\n",
       "      <td>...</td>\n",
       "    </tr>\n",
       "    <tr>\n",
       "      <th>227</th>\n",
       "      <td>PROD-e1ae7b0a</td>\n",
       "      <td>2037.40</td>\n",
       "      <td>122.0</td>\n",
       "      <td>electronics item 518</td>\n",
       "      <td>electronics</td>\n",
       "      <td>luxurygoods</td>\n",
       "      <td>16.70</td>\n",
       "    </tr>\n",
       "    <tr>\n",
       "      <th>228</th>\n",
       "      <td>PROD-4b745662</td>\n",
       "      <td>2012.43</td>\n",
       "      <td>111.0</td>\n",
       "      <td>other</td>\n",
       "      <td>other</td>\n",
       "      <td>other</td>\n",
       "      <td>0.00</td>\n",
       "    </tr>\n",
       "    <tr>\n",
       "      <th>229</th>\n",
       "      <td>PROD-048762fb</td>\n",
       "      <td>1988.91</td>\n",
       "      <td>99.0</td>\n",
       "      <td>home &amp; kitchen item 344</td>\n",
       "      <td>home &amp; kitchen</td>\n",
       "      <td>globalbrands_noise_onto</td>\n",
       "      <td>20.09</td>\n",
       "    </tr>\n",
       "    <tr>\n",
       "      <th>230</th>\n",
       "      <td>PROD-e</td>\n",
       "      <td>1205.84</td>\n",
       "      <td>25.0</td>\n",
       "      <td>other</td>\n",
       "      <td>other</td>\n",
       "      <td>other</td>\n",
       "      <td>0.00</td>\n",
       "    </tr>\n",
       "    <tr>\n",
       "      <th>231</th>\n",
       "      <td>PROD-5</td>\n",
       "      <td>0.00</td>\n",
       "      <td>6.0</td>\n",
       "      <td>other</td>\n",
       "      <td>other</td>\n",
       "      <td>other</td>\n",
       "      <td>0.00</td>\n",
       "    </tr>\n",
       "  </tbody>\n",
       "</table>\n",
       "<p>232 rows × 7 columns</p>\n",
       "</div>"
      ],
      "text/plain": [
       "        product_id  total_price  quantity                     product_name  \\\n",
       "0            other    433405.46    1855.0                            other   \n",
       "1    PROD-206a28be     85260.90     175.0                clothing item 127   \n",
       "2    PROD-ef9b7568     79237.60     161.0             electronics item 777   \n",
       "3    PROD-91e8e92e     74931.68     198.0             electronics item 973   \n",
       "4    PROD-26037271     74483.64     154.0  beauty & personal care item 700   \n",
       "..             ...          ...       ...                              ...   \n",
       "227  PROD-e1ae7b0a      2037.40     122.0             electronics item 518   \n",
       "228  PROD-4b745662      2012.43     111.0                            other   \n",
       "229  PROD-048762fb      1988.91      99.0          home & kitchen item 344   \n",
       "230   PROD-e            1205.84      25.0                            other   \n",
       "231   PROD-5               0.00       6.0                            other   \n",
       "\n",
       "                   category             manufacturer  base_price  \n",
       "0                     other                    other        0.00  \n",
       "1                         -              luxurygoods      481.70  \n",
       "2               electronics                     -763      483.16  \n",
       "3               electronics                      189      374.66  \n",
       "4    beauty & personal care                  ecotech        0.00  \n",
       "..                      ...                      ...         ...  \n",
       "227             electronics              luxurygoods       16.70  \n",
       "228                   other                    other        0.00  \n",
       "229          home & kitchen  globalbrands_noise_onto       20.09  \n",
       "230                   other                    other        0.00  \n",
       "231                   other                    other        0.00  \n",
       "\n",
       "[232 rows x 7 columns]"
      ]
     },
     "execution_count": 33,
     "metadata": {},
     "output_type": "execute_result"
    }
   ],
   "source": [
    "data_grouped"
   ]
  },
  {
   "cell_type": "markdown",
   "id": "cdf6b336-b589-407a-ac3d-90e35f0c697b",
   "metadata": {},
   "source": [
    "#### Sales performance by channel"
   ]
  },
  {
   "cell_type": "code",
   "execution_count": 37,
   "id": "c53eb45a-6ccc-49e0-82e5-ed23aa637dda",
   "metadata": {},
   "outputs": [],
   "source": [
    "#GROUP BY PRODUCT\n",
    "data_grouped_2 = data_2.groupby('sales_channel').agg({'total_price': 'sum', # Sum sales for each product\n",
    "                                                 'quantity': 'sum'     # Sum qty sold or each product\n",
    "                                                    }).reset_index()"
   ]
  },
  {
   "cell_type": "code",
   "execution_count": 38,
   "id": "c921924c-f48f-42e0-8c3e-01d8ffb8a9d8",
   "metadata": {},
   "outputs": [
    {
     "data": {
      "text/html": [
       "<div>\n",
       "<style scoped>\n",
       "    .dataframe tbody tr th:only-of-type {\n",
       "        vertical-align: middle;\n",
       "    }\n",
       "\n",
       "    .dataframe tbody tr th {\n",
       "        vertical-align: top;\n",
       "    }\n",
       "\n",
       "    .dataframe thead th {\n",
       "        text-align: right;\n",
       "    }\n",
       "</style>\n",
       "<table border=\"1\" class=\"dataframe\">\n",
       "  <thead>\n",
       "    <tr style=\"text-align: right;\">\n",
       "      <th></th>\n",
       "      <th>sales_channel</th>\n",
       "      <th>total_price</th>\n",
       "      <th>quantity</th>\n",
       "    </tr>\n",
       "  </thead>\n",
       "  <tbody>\n",
       "    <tr>\n",
       "      <th>0</th>\n",
       "      <td>in-store</td>\n",
       "      <td>2150127.92</td>\n",
       "      <td>8358.0</td>\n",
       "    </tr>\n",
       "    <tr>\n",
       "      <th>1</th>\n",
       "      <td>mobile app</td>\n",
       "      <td>2080648.33</td>\n",
       "      <td>8572.0</td>\n",
       "    </tr>\n",
       "    <tr>\n",
       "      <th>2</th>\n",
       "      <td>online</td>\n",
       "      <td>2144082.16</td>\n",
       "      <td>8572.0</td>\n",
       "    </tr>\n",
       "    <tr>\n",
       "      <th>3</th>\n",
       "      <td>other</td>\n",
       "      <td>582017.42</td>\n",
       "      <td>2480.0</td>\n",
       "    </tr>\n",
       "  </tbody>\n",
       "</table>\n",
       "</div>"
      ],
      "text/plain": [
       "  sales_channel  total_price  quantity\n",
       "0      in-store   2150127.92    8358.0\n",
       "1    mobile app   2080648.33    8572.0\n",
       "2        online   2144082.16    8572.0\n",
       "3         other    582017.42    2480.0"
      ]
     },
     "execution_count": 38,
     "metadata": {},
     "output_type": "execute_result"
    }
   ],
   "source": [
    "data_grouped_2"
   ]
  },
  {
   "cell_type": "markdown",
   "id": "8fe2ddf8-c1e2-487b-befd-7cfb5e8018af",
   "metadata": {},
   "source": [
    "#### Customer purchase frequency"
   ]
  },
  {
   "cell_type": "code",
   "execution_count": 45,
   "id": "6c0a7a85-7188-4d2a-aee6-84fd4e898ff9",
   "metadata": {},
   "outputs": [],
   "source": [
    "#GROUP BY PRODUCT\n",
    "data_grouped_3 = data_2.groupby('customer_id').agg({'transaction_id': 'nunique', # Sum sales for each product\n",
    "                                                    }).reset_index()"
   ]
  },
  {
   "cell_type": "code",
   "execution_count": 48,
   "id": "1fa9713a-3e79-412d-b00b-71a24202cfeb",
   "metadata": {},
   "outputs": [],
   "source": [
    "data_grouped_3 = data_grouped_3.sort_values(by=['transaction_id'], ascending=False).reset_index(drop=True)"
   ]
  },
  {
   "cell_type": "code",
   "execution_count": 51,
   "id": "30b2a6d2-f878-4e65-a585-3390404245cd",
   "metadata": {},
   "outputs": [
    {
     "data": {
      "text/html": [
       "<div>\n",
       "<style scoped>\n",
       "    .dataframe tbody tr th:only-of-type {\n",
       "        vertical-align: middle;\n",
       "    }\n",
       "\n",
       "    .dataframe tbody tr th {\n",
       "        vertical-align: top;\n",
       "    }\n",
       "\n",
       "    .dataframe thead th {\n",
       "        text-align: right;\n",
       "    }\n",
       "</style>\n",
       "<table border=\"1\" class=\"dataframe\">\n",
       "  <thead>\n",
       "    <tr style=\"text-align: right;\">\n",
       "      <th></th>\n",
       "      <th>customer_id</th>\n",
       "      <th>transaction_id</th>\n",
       "    </tr>\n",
       "  </thead>\n",
       "  <tbody>\n",
       "    <tr>\n",
       "      <th>0</th>\n",
       "      <td>other</td>\n",
       "      <td>721</td>\n",
       "    </tr>\n",
       "    <tr>\n",
       "      <th>1</th>\n",
       "      <td>CUST-4</td>\n",
       "      <td>20</td>\n",
       "    </tr>\n",
       "    <tr>\n",
       "      <th>2</th>\n",
       "      <td>CUST-c</td>\n",
       "      <td>16</td>\n",
       "    </tr>\n",
       "    <tr>\n",
       "      <th>3</th>\n",
       "      <td>CUST-d</td>\n",
       "      <td>15</td>\n",
       "    </tr>\n",
       "    <tr>\n",
       "      <th>4</th>\n",
       "      <td>CUST-5</td>\n",
       "      <td>14</td>\n",
       "    </tr>\n",
       "    <tr>\n",
       "      <th>...</th>\n",
       "      <td>...</td>\n",
       "      <td>...</td>\n",
       "    </tr>\n",
       "    <tr>\n",
       "      <th>8371</th>\n",
       "      <td>CUST-54844586</td>\n",
       "      <td>1</td>\n",
       "    </tr>\n",
       "    <tr>\n",
       "      <th>8372</th>\n",
       "      <td>CUST-5481a7c3</td>\n",
       "      <td>1</td>\n",
       "    </tr>\n",
       "    <tr>\n",
       "      <th>8373</th>\n",
       "      <td>CUST-547fc471</td>\n",
       "      <td>1</td>\n",
       "    </tr>\n",
       "    <tr>\n",
       "      <th>8374</th>\n",
       "      <td>CUST-5473f973_laugh</td>\n",
       "      <td>1</td>\n",
       "    </tr>\n",
       "    <tr>\n",
       "      <th>8375</th>\n",
       "      <td>CUST-7e8f916e</td>\n",
       "      <td>1</td>\n",
       "    </tr>\n",
       "  </tbody>\n",
       "</table>\n",
       "<p>8376 rows × 2 columns</p>\n",
       "</div>"
      ],
      "text/plain": [
       "              customer_id  transaction_id\n",
       "0                   other             721\n",
       "1            CUST-4                    20\n",
       "2            CUST-c                    16\n",
       "3            CUST-d                    15\n",
       "4            CUST-5                    14\n",
       "...                   ...             ...\n",
       "8371        CUST-54844586               1\n",
       "8372        CUST-5481a7c3               1\n",
       "8373        CUST-547fc471               1\n",
       "8374  CUST-5473f973_laugh               1\n",
       "8375        CUST-7e8f916e               1\n",
       "\n",
       "[8376 rows x 2 columns]"
      ]
     },
     "execution_count": 51,
     "metadata": {},
     "output_type": "execute_result"
    }
   ],
   "source": [
    "data_grouped_3"
   ]
  },
  {
   "cell_type": "code",
   "execution_count": null,
   "id": "af271cf3-ecd8-471b-b790-36f3d0bd5632",
   "metadata": {},
   "outputs": [],
   "source": []
  }
 ],
 "metadata": {
  "kernelspec": {
   "display_name": "Python 3 (ipykernel)",
   "language": "python",
   "name": "python3"
  },
  "language_info": {
   "codemirror_mode": {
    "name": "ipython",
    "version": 3
   },
   "file_extension": ".py",
   "mimetype": "text/x-python",
   "name": "python",
   "nbconvert_exporter": "python",
   "pygments_lexer": "ipython3",
   "version": "3.11.7"
  }
 },
 "nbformat": 4,
 "nbformat_minor": 5
}
